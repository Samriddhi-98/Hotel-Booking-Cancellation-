{
 "cells": [
  {
   "cell_type": "code",
   "execution_count": 1,
   "id": "24702067",
   "metadata": {},
   "outputs": [],
   "source": [
    "import warnings\n",
    "warnings.filterwarnings('ignore')"
   ]
  },
  {
   "cell_type": "code",
   "execution_count": 2,
   "id": "c08a4c6c",
   "metadata": {},
   "outputs": [],
   "source": [
    "import gradio as gr\n",
    "import pickle"
   ]
  },
  {
   "cell_type": "code",
   "execution_count": 3,
   "id": "6ac70174",
   "metadata": {},
   "outputs": [],
   "source": [
    "# Load the model\n",
    "\n",
    "with open('final_model.pkl','rb') as file:\n",
    "    final_model=pickle.load(file)"
   ]
  },
  {
   "cell_type": "code",
   "execution_count": 4,
   "id": "0159723b",
   "metadata": {},
   "outputs": [],
   "source": [
    "# Let's define a function to make predictions"
   ]
  },
  {
   "cell_type": "code",
   "execution_count": 5,
   "id": "a51d853c",
   "metadata": {},
   "outputs": [],
   "source": [
    "def prediction(lt,spreq,price,adults,wknd,park,week,arday,armnth,arwkdy,seg):\n",
    "    input_data=[[lt,spreq,price,adults,wknd,park,week,arday,armnth,arwkdy,seg]]\n",
    "    \n",
    "    prob=final_model.predict_proba(input_data)[:,1][0]\n",
    "    \n",
    "    if prob>0.331522:\n",
    "        return 'This booking might get Canceled'\n",
    "    else:\n",
    "        return 'This booking will not get Canceled'"
   ]
  },
  {
   "cell_type": "code",
   "execution_count": 6,
   "id": "f782af2b",
   "metadata": {},
   "outputs": [
    {
     "data": {
      "text/plain": [
       "'This booking might get Canceled'"
      ]
     },
     "execution_count": 6,
     "metadata": {},
     "output_type": "execute_result"
    }
   ],
   "source": [
    "prediction(60,0,100,1,2,0,2,4,6,1,1)"
   ]
  },
  {
   "cell_type": "code",
   "execution_count": 7,
   "id": "8b49ac26",
   "metadata": {},
   "outputs": [],
   "source": [
    "iface=gr.Interface(fn=prediction,inputs=[gr.Number(label='How many prior days booking has been made?'),\n",
    "                                        gr.Dropdown([0,1,2,3,4,5],label='How many Special requests have been made?'),\n",
    "                                        gr.Number(label='What is the Average room price?'),\n",
    "                                        gr.Dropdown([0,1,2,3,4],label='How many adults per room?'),\n",
    "                                        gr.Number(label='How many Weekend nights are in the stay?'),\n",
    "                                        gr.Checkbox([('Yes',1),('No',0)],label='Is parking included in booking'),\n",
    "                                        gr.Number('How many Week nights are there in stay?'),\n",
    "                                        gr.Slider(minimum=1,maximum=31,step=1,label='Select Day of Arrival'),\n",
    "                                        gr.Slider(minimum=1,maximum=12,step=1,label='Select the arrival month'),\n",
    "                                        gr.Dropdown([('Mon',0),('Tues',1),('Wed',2),('Thurs',3),('Fri',4),('Sat',5),('Sun',6)],\n",
    "                                                   label='Week day of arrival?'),\n",
    "                                        gr.Checkbox([('Online',1),('Offline',0)],label='What is the mode of booking?')],\n",
    "                  outputs=gr.Textbox(label='Predicted Booking Status'),\n",
    "                  title='INN Hotels Group',\n",
    "                  description='This application will forecast Cancelation of bookings',\n",
    "                  allow_flagging='never')"
   ]
  },
  {
   "cell_type": "code",
   "execution_count": 8,
   "id": "49f97abd",
   "metadata": {},
   "outputs": [],
   "source": [
    "iface=gr.Interface(fn=prediction,inputs=[gr.Number(label='How many prior days booking has been made?'),\n",
    "                                        gr.Dropdown([0,1,2,3,4,5],label='How many Special requests have been made?'),\n",
    "                                        gr.Number(label='What is the Average room price?'),\n",
    "                                        gr.Dropdown([0,1,2,3,4],label='How many adults per room?'),\n",
    "                                        gr.Number(label='How many Weekend nights are in the stay?'),\n",
    "                                        gr.Dropdown([('Yes',1),('No',0)],label='Is parking included in booking?'),\n",
    "                                        gr.Number(label='How many Week nights are there in stay?'),\n",
    "                                        gr.Slider(minimum=1,maximum=31,step=1,label='Select Day of Arrival'),\n",
    "                                        gr.Slider(minimum=1,maximum=12,step=1,label='Select the arrival month'),\n",
    "                                        gr.Dropdown([('Mon',0),('Tues',1),('Wed',2),('Thurs',3),('Fri',4),('Sat',5),('Sun',6)],\n",
    "                                                   label='Week day of arrival?'),\n",
    "                                        gr.Dropdown([('Online',1),('Offline',0)],label='What is the mode of booking?')],\n",
    "                  outputs=gr.Textbox(label='Predicted Booking Status'),\n",
    "                  title='INN Hotels Group',\n",
    "                  description='This application will forecast Cancelation of bookings',\n",
    "                  allow_flagging='never')"
   ]
  },
  {
   "cell_type": "code",
   "execution_count": 9,
   "id": "1750ca4b",
   "metadata": {},
   "outputs": [],
   "source": [
    "# Launch this interface on local server"
   ]
  },
  {
   "cell_type": "code",
   "execution_count": 11,
   "id": "bc9d33eb",
   "metadata": {},
   "outputs": [
    {
     "name": "stdout",
     "output_type": "stream",
     "text": [
      "Rerunning server... use `close()` to stop if you need to change `launch()` parameters.\n",
      "----\n",
      "* Running on public URL: https://38e57b7fea4f1b639e.gradio.live\n",
      "\n",
      "This share link expires in 72 hours. For free permanent hosting and GPU upgrades, run `gradio deploy` from the terminal in the working directory to deploy to Hugging Face Spaces (https://huggingface.co/spaces)\n"
     ]
    },
    {
     "data": {
      "text/html": [
       "<div><iframe src=\"https://38e57b7fea4f1b639e.gradio.live\" width=\"100%\" height=\"500\" allow=\"autoplay; camera; microphone; clipboard-read; clipboard-write;\" frameborder=\"0\" allowfullscreen></iframe></div>"
      ],
      "text/plain": [
       "<IPython.core.display.HTML object>"
      ]
     },
     "metadata": {},
     "output_type": "display_data"
    },
    {
     "data": {
      "text/plain": []
     },
     "execution_count": 11,
     "metadata": {},
     "output_type": "execute_result"
    }
   ],
   "source": [
    "iface.launch(share=True)"
   ]
  },
  {
   "cell_type": "code",
   "execution_count": null,
   "id": "9996e0aa",
   "metadata": {},
   "outputs": [],
   "source": []
  },
  {
   "cell_type": "code",
   "execution_count": null,
   "id": "d555cafa",
   "metadata": {},
   "outputs": [],
   "source": []
  },
  {
   "cell_type": "code",
   "execution_count": null,
   "id": "9e96228b",
   "metadata": {},
   "outputs": [],
   "source": []
  },
  {
   "cell_type": "code",
   "execution_count": null,
   "id": "ee689d25",
   "metadata": {},
   "outputs": [],
   "source": []
  },
  {
   "cell_type": "code",
   "execution_count": null,
   "id": "12844932",
   "metadata": {},
   "outputs": [],
   "source": []
  },
  {
   "cell_type": "code",
   "execution_count": null,
   "id": "82d5397c",
   "metadata": {},
   "outputs": [],
   "source": []
  },
  {
   "cell_type": "code",
   "execution_count": null,
   "id": "dbc5deb9",
   "metadata": {},
   "outputs": [],
   "source": []
  },
  {
   "cell_type": "code",
   "execution_count": null,
   "id": "e163c605",
   "metadata": {},
   "outputs": [],
   "source": []
  },
  {
   "cell_type": "code",
   "execution_count": null,
   "id": "b40948db",
   "metadata": {},
   "outputs": [],
   "source": []
  },
  {
   "cell_type": "code",
   "execution_count": null,
   "id": "3d1ce2b3",
   "metadata": {},
   "outputs": [],
   "source": []
  },
  {
   "cell_type": "code",
   "execution_count": null,
   "id": "1453ca85",
   "metadata": {},
   "outputs": [],
   "source": []
  },
  {
   "cell_type": "code",
   "execution_count": null,
   "id": "f8a4594b",
   "metadata": {},
   "outputs": [],
   "source": []
  },
  {
   "cell_type": "code",
   "execution_count": null,
   "id": "e08d9293",
   "metadata": {},
   "outputs": [],
   "source": []
  },
  {
   "cell_type": "code",
   "execution_count": null,
   "id": "47579f32",
   "metadata": {},
   "outputs": [],
   "source": []
  },
  {
   "cell_type": "code",
   "execution_count": null,
   "id": "592a8365",
   "metadata": {},
   "outputs": [],
   "source": []
  },
  {
   "cell_type": "code",
   "execution_count": null,
   "id": "1f8823e5",
   "metadata": {},
   "outputs": [],
   "source": []
  },
  {
   "cell_type": "code",
   "execution_count": null,
   "id": "66aed5d5",
   "metadata": {},
   "outputs": [],
   "source": []
  }
 ],
 "metadata": {
  "kernelspec": {
   "display_name": "Python 3 (ipykernel)",
   "language": "python",
   "name": "python3"
  },
  "language_info": {
   "codemirror_mode": {
    "name": "ipython",
    "version": 3
   },
   "file_extension": ".py",
   "mimetype": "text/x-python",
   "name": "python",
   "nbconvert_exporter": "python",
   "pygments_lexer": "ipython3",
   "version": "3.12.6"
  }
 },
 "nbformat": 4,
 "nbformat_minor": 5
}
